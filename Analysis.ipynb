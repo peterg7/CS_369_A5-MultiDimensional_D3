{
 "cells": [
  {
   "cell_type": "code",
   "execution_count": 1,
   "id": "2facc869",
   "metadata": {
    "ExecuteTime": {
     "end_time": "2022-03-02T01:26:56.412848Z",
     "start_time": "2022-03-02T01:26:55.978148Z"
    }
   },
   "outputs": [],
   "source": [
    "import pandas as pd\n",
    "import numpy as np"
   ]
  },
  {
   "cell_type": "code",
   "execution_count": 2,
   "id": "26ab7ea2",
   "metadata": {
    "ExecuteTime": {
     "end_time": "2022-03-02T01:26:58.062606Z",
     "start_time": "2022-03-02T01:26:58.033387Z"
    }
   },
   "outputs": [
    {
     "data": {
      "text/html": [
       "<div>\n",
       "<style scoped>\n",
       "    .dataframe tbody tr th:only-of-type {\n",
       "        vertical-align: middle;\n",
       "    }\n",
       "\n",
       "    .dataframe tbody tr th {\n",
       "        vertical-align: top;\n",
       "    }\n",
       "\n",
       "    .dataframe thead th {\n",
       "        text-align: right;\n",
       "    }\n",
       "</style>\n",
       "<table border=\"1\" class=\"dataframe\">\n",
       "  <thead>\n",
       "    <tr style=\"text-align: right;\">\n",
       "      <th></th>\n",
       "      <th>State</th>\n",
       "      <th>Starting Colonies</th>\n",
       "      <th>Maximum Colonies</th>\n",
       "      <th>Lost Colonies</th>\n",
       "      <th>Percent Loss</th>\n",
       "      <th>Added Colonies</th>\n",
       "      <th>Renovated Colonies</th>\n",
       "      <th>Percent Renovated</th>\n",
       "      <th>Year</th>\n",
       "    </tr>\n",
       "  </thead>\n",
       "  <tbody>\n",
       "    <tr>\n",
       "      <th>0</th>\n",
       "      <td>Alabama</td>\n",
       "      <td>7000</td>\n",
       "      <td>7000</td>\n",
       "      <td>1800</td>\n",
       "      <td>26</td>\n",
       "      <td>2800</td>\n",
       "      <td>250</td>\n",
       "      <td>4</td>\n",
       "      <td>2015-Q1</td>\n",
       "    </tr>\n",
       "    <tr>\n",
       "      <th>1</th>\n",
       "      <td>Arizona</td>\n",
       "      <td>35000</td>\n",
       "      <td>35000</td>\n",
       "      <td>4600</td>\n",
       "      <td>13</td>\n",
       "      <td>3400</td>\n",
       "      <td>2100</td>\n",
       "      <td>6</td>\n",
       "      <td>2015-Q1</td>\n",
       "    </tr>\n",
       "    <tr>\n",
       "      <th>2</th>\n",
       "      <td>Arkansas</td>\n",
       "      <td>13000</td>\n",
       "      <td>14000</td>\n",
       "      <td>1500</td>\n",
       "      <td>11</td>\n",
       "      <td>1200</td>\n",
       "      <td>90</td>\n",
       "      <td>1</td>\n",
       "      <td>2015-Q1</td>\n",
       "    </tr>\n",
       "    <tr>\n",
       "      <th>3</th>\n",
       "      <td>California</td>\n",
       "      <td>1440000</td>\n",
       "      <td>1690000</td>\n",
       "      <td>255000</td>\n",
       "      <td>15</td>\n",
       "      <td>250000</td>\n",
       "      <td>124000</td>\n",
       "      <td>7</td>\n",
       "      <td>2015-Q1</td>\n",
       "    </tr>\n",
       "    <tr>\n",
       "      <th>4</th>\n",
       "      <td>Colorado</td>\n",
       "      <td>3500</td>\n",
       "      <td>12500</td>\n",
       "      <td>1500</td>\n",
       "      <td>12</td>\n",
       "      <td>200</td>\n",
       "      <td>140</td>\n",
       "      <td>1</td>\n",
       "      <td>2015-Q1</td>\n",
       "    </tr>\n",
       "  </tbody>\n",
       "</table>\n",
       "</div>"
      ],
      "text/plain": [
       "        State Starting Colonies Maximum Colonies Lost Colonies Percent Loss  \\\n",
       "0     Alabama              7000             7000          1800           26   \n",
       "1     Arizona             35000            35000          4600           13   \n",
       "2    Arkansas             13000            14000          1500           11   \n",
       "3  California           1440000          1690000        255000           15   \n",
       "4    Colorado              3500            12500          1500           12   \n",
       "\n",
       "  Added Colonies Renovated Colonies Percent Renovated     Year  \n",
       "0           2800                250                 4  2015-Q1  \n",
       "1           3400               2100                 6  2015-Q1  \n",
       "2           1200                 90                 1  2015-Q1  \n",
       "3         250000             124000                 7  2015-Q1  \n",
       "4            200                140                 1  2015-Q1  "
      ]
     },
     "execution_count": 2,
     "metadata": {},
     "output_type": "execute_result"
    }
   ],
   "source": [
    "bee_df = pd.read_csv('data/NASS_Bee-Colony_2015-2021.csv')\n",
    "bee_df.head()"
   ]
  },
  {
   "cell_type": "code",
   "execution_count": 17,
   "id": "ded02189",
   "metadata": {
    "ExecuteTime": {
     "end_time": "2022-03-02T01:29:58.910528Z",
     "start_time": "2022-03-02T01:29:58.904426Z"
    }
   },
   "outputs": [
    {
     "data": {
      "text/plain": [
       "State                         object\n",
       "Starting Colonies             object\n",
       "Maximum Colonies              object\n",
       "Lost Colonies                 object\n",
       "Percent Loss                  object\n",
       "Added Colonies                object\n",
       "Renovated Colonies            object\n",
       "Percent Renovated             object\n",
       "Year                          object\n",
       "date                  datetime64[ns]\n",
       "dtype: object"
      ]
     },
     "execution_count": 17,
     "metadata": {},
     "output_type": "execute_result"
    }
   ],
   "source": [
    "bee_df.dtypes"
   ]
  },
  {
   "cell_type": "code",
   "execution_count": 4,
   "id": "8a9483d5",
   "metadata": {
    "ExecuteTime": {
     "end_time": "2022-03-02T01:27:05.363857Z",
     "start_time": "2022-03-02T01:27:05.329409Z"
    }
   },
   "outputs": [
    {
     "data": {
      "text/html": [
       "<div>\n",
       "<style scoped>\n",
       "    .dataframe tbody tr th:only-of-type {\n",
       "        vertical-align: middle;\n",
       "    }\n",
       "\n",
       "    .dataframe tbody tr th {\n",
       "        vertical-align: top;\n",
       "    }\n",
       "\n",
       "    .dataframe thead th {\n",
       "        text-align: right;\n",
       "    }\n",
       "</style>\n",
       "<table border=\"1\" class=\"dataframe\">\n",
       "  <thead>\n",
       "    <tr style=\"text-align: right;\">\n",
       "      <th></th>\n",
       "      <th>State</th>\n",
       "      <th>Starting Colonies</th>\n",
       "      <th>Maximum Colonies</th>\n",
       "      <th>Lost Colonies</th>\n",
       "      <th>Percent Loss</th>\n",
       "      <th>Added Colonies</th>\n",
       "      <th>Renovated Colonies</th>\n",
       "      <th>Percent Renovated</th>\n",
       "      <th>Year</th>\n",
       "    </tr>\n",
       "  </thead>\n",
       "  <tbody>\n",
       "    <tr>\n",
       "      <th>count</th>\n",
       "      <td>1222</td>\n",
       "      <td>1222</td>\n",
       "      <td>1222</td>\n",
       "      <td>1222</td>\n",
       "      <td>1222</td>\n",
       "      <td>1222</td>\n",
       "      <td>1222</td>\n",
       "      <td>1222</td>\n",
       "      <td>1222</td>\n",
       "    </tr>\n",
       "    <tr>\n",
       "      <th>unique</th>\n",
       "      <td>47</td>\n",
       "      <td>290</td>\n",
       "      <td>281</td>\n",
       "      <td>262</td>\n",
       "      <td>46</td>\n",
       "      <td>260</td>\n",
       "      <td>255</td>\n",
       "      <td>54</td>\n",
       "      <td>26</td>\n",
       "    </tr>\n",
       "    <tr>\n",
       "      <th>top</th>\n",
       "      <td>Alabama</td>\n",
       "      <td>(NA)</td>\n",
       "      <td>(NA)</td>\n",
       "      <td>(NA)</td>\n",
       "      <td>8</td>\n",
       "      <td>(NA)</td>\n",
       "      <td>0</td>\n",
       "      <td>1</td>\n",
       "      <td>2015-Q1</td>\n",
       "    </tr>\n",
       "    <tr>\n",
       "      <th>freq</th>\n",
       "      <td>26</td>\n",
       "      <td>47</td>\n",
       "      <td>47</td>\n",
       "      <td>47</td>\n",
       "      <td>93</td>\n",
       "      <td>47</td>\n",
       "      <td>87</td>\n",
       "      <td>144</td>\n",
       "      <td>47</td>\n",
       "    </tr>\n",
       "  </tbody>\n",
       "</table>\n",
       "</div>"
      ],
      "text/plain": [
       "          State Starting Colonies Maximum Colonies Lost Colonies Percent Loss  \\\n",
       "count      1222              1222             1222          1222         1222   \n",
       "unique       47               290              281           262           46   \n",
       "top     Alabama              (NA)             (NA)          (NA)            8   \n",
       "freq         26                47               47            47           93   \n",
       "\n",
       "       Added Colonies Renovated Colonies Percent Renovated     Year  \n",
       "count            1222               1222              1222     1222  \n",
       "unique            260                255                54       26  \n",
       "top              (NA)                  0                 1  2015-Q1  \n",
       "freq               47                 87               144       47  "
      ]
     },
     "execution_count": 4,
     "metadata": {},
     "output_type": "execute_result"
    }
   ],
   "source": [
    "bee_df.describe()"
   ]
  },
  {
   "cell_type": "code",
   "execution_count": 5,
   "id": "5d3b0c6a",
   "metadata": {
    "ExecuteTime": {
     "end_time": "2022-03-02T01:27:08.302435Z",
     "start_time": "2022-03-02T01:27:08.288197Z"
    }
   },
   "outputs": [
    {
     "name": "stdout",
     "output_type": "stream",
     "text": [
      "Total 1222\n",
      "State                 0\n",
      "Starting Colonies     0\n",
      "Maximum Colonies      0\n",
      "Lost Colonies         0\n",
      "Percent Loss          0\n",
      "Added Colonies        0\n",
      "Renovated Colonies    0\n",
      "Percent Renovated     0\n",
      "Year                  0\n",
      "dtype: int64\n"
     ]
    }
   ],
   "source": [
    "print('Total', len(bee_df))\n",
    "\n",
    "na_counts = bee_df.isna().sum()\n",
    "print(na_counts.sort_values())"
   ]
  },
  {
   "cell_type": "code",
   "execution_count": 6,
   "id": "e57faa81",
   "metadata": {
    "ExecuteTime": {
     "end_time": "2022-03-02T01:27:27.974230Z",
     "start_time": "2022-03-02T01:27:27.942117Z"
    }
   },
   "outputs": [],
   "source": [
    "bee_df['date'] = pd.PeriodIndex(bee_df['Year'], freq='Q').to_timestamp()"
   ]
  },
  {
   "cell_type": "code",
   "execution_count": 7,
   "id": "b77ca99c",
   "metadata": {
    "ExecuteTime": {
     "end_time": "2022-03-02T01:27:28.884273Z",
     "start_time": "2022-03-02T01:27:28.861318Z"
    }
   },
   "outputs": [
    {
     "data": {
      "text/html": [
       "<div>\n",
       "<style scoped>\n",
       "    .dataframe tbody tr th:only-of-type {\n",
       "        vertical-align: middle;\n",
       "    }\n",
       "\n",
       "    .dataframe tbody tr th {\n",
       "        vertical-align: top;\n",
       "    }\n",
       "\n",
       "    .dataframe thead th {\n",
       "        text-align: right;\n",
       "    }\n",
       "</style>\n",
       "<table border=\"1\" class=\"dataframe\">\n",
       "  <thead>\n",
       "    <tr style=\"text-align: right;\">\n",
       "      <th></th>\n",
       "      <th>State</th>\n",
       "      <th>Starting Colonies</th>\n",
       "      <th>Maximum Colonies</th>\n",
       "      <th>Lost Colonies</th>\n",
       "      <th>Percent Loss</th>\n",
       "      <th>Added Colonies</th>\n",
       "      <th>Renovated Colonies</th>\n",
       "      <th>Percent Renovated</th>\n",
       "      <th>Year</th>\n",
       "      <th>date</th>\n",
       "    </tr>\n",
       "  </thead>\n",
       "  <tbody>\n",
       "    <tr>\n",
       "      <th>0</th>\n",
       "      <td>Alabama</td>\n",
       "      <td>7000</td>\n",
       "      <td>7000</td>\n",
       "      <td>1800</td>\n",
       "      <td>26</td>\n",
       "      <td>2800</td>\n",
       "      <td>250</td>\n",
       "      <td>4</td>\n",
       "      <td>2015-Q1</td>\n",
       "      <td>2015-01-01</td>\n",
       "    </tr>\n",
       "    <tr>\n",
       "      <th>1</th>\n",
       "      <td>Arizona</td>\n",
       "      <td>35000</td>\n",
       "      <td>35000</td>\n",
       "      <td>4600</td>\n",
       "      <td>13</td>\n",
       "      <td>3400</td>\n",
       "      <td>2100</td>\n",
       "      <td>6</td>\n",
       "      <td>2015-Q1</td>\n",
       "      <td>2015-01-01</td>\n",
       "    </tr>\n",
       "    <tr>\n",
       "      <th>2</th>\n",
       "      <td>Arkansas</td>\n",
       "      <td>13000</td>\n",
       "      <td>14000</td>\n",
       "      <td>1500</td>\n",
       "      <td>11</td>\n",
       "      <td>1200</td>\n",
       "      <td>90</td>\n",
       "      <td>1</td>\n",
       "      <td>2015-Q1</td>\n",
       "      <td>2015-01-01</td>\n",
       "    </tr>\n",
       "    <tr>\n",
       "      <th>3</th>\n",
       "      <td>California</td>\n",
       "      <td>1440000</td>\n",
       "      <td>1690000</td>\n",
       "      <td>255000</td>\n",
       "      <td>15</td>\n",
       "      <td>250000</td>\n",
       "      <td>124000</td>\n",
       "      <td>7</td>\n",
       "      <td>2015-Q1</td>\n",
       "      <td>2015-01-01</td>\n",
       "    </tr>\n",
       "    <tr>\n",
       "      <th>4</th>\n",
       "      <td>Colorado</td>\n",
       "      <td>3500</td>\n",
       "      <td>12500</td>\n",
       "      <td>1500</td>\n",
       "      <td>12</td>\n",
       "      <td>200</td>\n",
       "      <td>140</td>\n",
       "      <td>1</td>\n",
       "      <td>2015-Q1</td>\n",
       "      <td>2015-01-01</td>\n",
       "    </tr>\n",
       "    <tr>\n",
       "      <th>...</th>\n",
       "      <td>...</td>\n",
       "      <td>...</td>\n",
       "      <td>...</td>\n",
       "      <td>...</td>\n",
       "      <td>...</td>\n",
       "      <td>...</td>\n",
       "      <td>...</td>\n",
       "      <td>...</td>\n",
       "      <td>...</td>\n",
       "      <td>...</td>\n",
       "    </tr>\n",
       "    <tr>\n",
       "      <th>1217</th>\n",
       "      <td>West Virginia</td>\n",
       "      <td>8000</td>\n",
       "      <td>9000</td>\n",
       "      <td>170</td>\n",
       "      <td>2</td>\n",
       "      <td>1900</td>\n",
       "      <td>390</td>\n",
       "      <td>4</td>\n",
       "      <td>2021-Q2</td>\n",
       "      <td>2021-04-01</td>\n",
       "    </tr>\n",
       "    <tr>\n",
       "      <th>1218</th>\n",
       "      <td>Wisconsin</td>\n",
       "      <td>42000</td>\n",
       "      <td>57000</td>\n",
       "      <td>2200</td>\n",
       "      <td>4</td>\n",
       "      <td>9000</td>\n",
       "      <td>7500</td>\n",
       "      <td>13</td>\n",
       "      <td>2021-Q2</td>\n",
       "      <td>2021-04-01</td>\n",
       "    </tr>\n",
       "    <tr>\n",
       "      <th>1219</th>\n",
       "      <td>Wyoming</td>\n",
       "      <td>13500</td>\n",
       "      <td>30000</td>\n",
       "      <td>3400</td>\n",
       "      <td>11</td>\n",
       "      <td>7500</td>\n",
       "      <td>4900</td>\n",
       "      <td>16</td>\n",
       "      <td>2021-Q2</td>\n",
       "      <td>2021-04-01</td>\n",
       "    </tr>\n",
       "    <tr>\n",
       "      <th>1220</th>\n",
       "      <td>Other</td>\n",
       "      <td>5970</td>\n",
       "      <td>8410</td>\n",
       "      <td>140</td>\n",
       "      <td>2</td>\n",
       "      <td>2890</td>\n",
       "      <td>3100</td>\n",
       "      <td>37</td>\n",
       "      <td>2021-Q2</td>\n",
       "      <td>2021-04-01</td>\n",
       "    </tr>\n",
       "    <tr>\n",
       "      <th>1221</th>\n",
       "      <td>United States</td>\n",
       "      <td>2855070</td>\n",
       "      <td>(X)</td>\n",
       "      <td>255860</td>\n",
       "      <td>9</td>\n",
       "      <td>677690</td>\n",
       "      <td>480380</td>\n",
       "      <td>17</td>\n",
       "      <td>2021-Q2</td>\n",
       "      <td>2021-04-01</td>\n",
       "    </tr>\n",
       "  </tbody>\n",
       "</table>\n",
       "<p>1222 rows × 10 columns</p>\n",
       "</div>"
      ],
      "text/plain": [
       "              State Starting Colonies Maximum Colonies Lost Colonies  \\\n",
       "0           Alabama              7000             7000          1800   \n",
       "1           Arizona             35000            35000          4600   \n",
       "2          Arkansas             13000            14000          1500   \n",
       "3        California           1440000          1690000        255000   \n",
       "4          Colorado              3500            12500          1500   \n",
       "...             ...               ...              ...           ...   \n",
       "1217  West Virginia              8000             9000           170   \n",
       "1218      Wisconsin             42000            57000          2200   \n",
       "1219        Wyoming             13500            30000          3400   \n",
       "1220          Other              5970             8410           140   \n",
       "1221  United States           2855070              (X)        255860   \n",
       "\n",
       "     Percent Loss Added Colonies Renovated Colonies Percent Renovated  \\\n",
       "0              26           2800                250                 4   \n",
       "1              13           3400               2100                 6   \n",
       "2              11           1200                 90                 1   \n",
       "3              15         250000             124000                 7   \n",
       "4              12            200                140                 1   \n",
       "...           ...            ...                ...               ...   \n",
       "1217            2           1900                390                 4   \n",
       "1218            4           9000               7500                13   \n",
       "1219           11           7500               4900                16   \n",
       "1220            2           2890               3100                37   \n",
       "1221            9         677690             480380                17   \n",
       "\n",
       "         Year       date  \n",
       "0     2015-Q1 2015-01-01  \n",
       "1     2015-Q1 2015-01-01  \n",
       "2     2015-Q1 2015-01-01  \n",
       "3     2015-Q1 2015-01-01  \n",
       "4     2015-Q1 2015-01-01  \n",
       "...       ...        ...  \n",
       "1217  2021-Q2 2021-04-01  \n",
       "1218  2021-Q2 2021-04-01  \n",
       "1219  2021-Q2 2021-04-01  \n",
       "1220  2021-Q2 2021-04-01  \n",
       "1221  2021-Q2 2021-04-01  \n",
       "\n",
       "[1222 rows x 10 columns]"
      ]
     },
     "execution_count": 7,
     "metadata": {},
     "output_type": "execute_result"
    }
   ],
   "source": [
    "bee_df"
   ]
  },
  {
   "cell_type": "code",
   "execution_count": 8,
   "id": "c1c21c14",
   "metadata": {
    "ExecuteTime": {
     "end_time": "2022-03-02T01:27:32.676864Z",
     "start_time": "2022-03-02T01:27:32.669863Z"
    }
   },
   "outputs": [
    {
     "data": {
      "text/plain": [
       "count     1222\n",
       "unique     290\n",
       "top       (NA)\n",
       "freq        47\n",
       "Name: Starting Colonies, dtype: object"
      ]
     },
     "execution_count": 8,
     "metadata": {},
     "output_type": "execute_result"
    }
   ],
   "source": [
    "bee_df['Starting Colonies'].describe()"
   ]
  },
  {
   "cell_type": "code",
   "execution_count": 9,
   "id": "7e9d7c20",
   "metadata": {
    "ExecuteTime": {
     "end_time": "2022-03-02T01:27:33.403471Z",
     "start_time": "2022-03-02T01:27:33.395063Z"
    }
   },
   "outputs": [
    {
     "data": {
      "text/plain": [
       "count     1222\n",
       "unique     260\n",
       "top       (NA)\n",
       "freq        47\n",
       "Name: Added Colonies, dtype: object"
      ]
     },
     "execution_count": 9,
     "metadata": {},
     "output_type": "execute_result"
    }
   ],
   "source": [
    "bee_df['Added Colonies'].describe()"
   ]
  },
  {
   "cell_type": "code",
   "execution_count": 10,
   "id": "707e5eb7",
   "metadata": {
    "ExecuteTime": {
     "end_time": "2022-03-02T01:27:36.248987Z",
     "start_time": "2022-03-02T01:27:36.242489Z"
    }
   },
   "outputs": [
    {
     "data": {
      "text/plain": [
       "count     1222\n",
       "unique     255\n",
       "top          0\n",
       "freq        87\n",
       "Name: Renovated Colonies, dtype: object"
      ]
     },
     "execution_count": 10,
     "metadata": {},
     "output_type": "execute_result"
    }
   ],
   "source": [
    "bee_df['Renovated Colonies'].describe()"
   ]
  },
  {
   "cell_type": "code",
   "execution_count": 11,
   "id": "57bd974e",
   "metadata": {
    "ExecuteTime": {
     "end_time": "2022-03-02T01:27:36.906870Z",
     "start_time": "2022-03-02T01:27:36.898936Z"
    }
   },
   "outputs": [
    {
     "data": {
      "text/plain": [
       "count     1222\n",
       "unique     281\n",
       "top       (NA)\n",
       "freq        47\n",
       "Name: Maximum Colonies, dtype: object"
      ]
     },
     "execution_count": 11,
     "metadata": {},
     "output_type": "execute_result"
    }
   ],
   "source": [
    "bee_df['Maximum Colonies'].describe()"
   ]
  },
  {
   "cell_type": "code",
   "execution_count": 12,
   "id": "73a325c3",
   "metadata": {
    "ExecuteTime": {
     "end_time": "2022-03-02T01:27:38.681504Z",
     "start_time": "2022-03-02T01:27:38.675749Z"
    }
   },
   "outputs": [
    {
     "data": {
      "text/plain": [
       "2015-Q1    47\n",
       "2015-Q2    47\n",
       "2021-Q1    47\n",
       "2020-Q4    47\n",
       "2020-Q3    47\n",
       "2020-Q2    47\n",
       "2020-Q1    47\n",
       "2019-Q4    47\n",
       "2019-Q3    47\n",
       "2019-Q2    47\n",
       "2019-Q1    47\n",
       "2018-Q4    47\n",
       "2018-Q3    47\n",
       "2018-Q2    47\n",
       "2018-Q1    47\n",
       "2017-Q4    47\n",
       "2017-Q3    47\n",
       "2017-Q2    47\n",
       "2017-Q1    47\n",
       "2016-Q4    47\n",
       "2016-Q3    47\n",
       "2016-Q2    47\n",
       "2016-Q1    47\n",
       "2015-Q4    47\n",
       "2015-Q3    47\n",
       "2021-Q2    47\n",
       "Name: Year, dtype: int64"
      ]
     },
     "execution_count": 12,
     "metadata": {},
     "output_type": "execute_result"
    }
   ],
   "source": [
    "bee_df['Year'].value_counts()"
   ]
  },
  {
   "cell_type": "code",
   "execution_count": 54,
   "id": "a9b0d415",
   "metadata": {
    "ExecuteTime": {
     "end_time": "2022-03-02T02:11:58.664682Z",
     "start_time": "2022-03-02T02:11:58.657591Z"
    }
   },
   "outputs": [],
   "source": [
    "california_bees_df = bee_df[bee_df['State'] == 'California']\n",
    "spring_cali_bees_df = california_bees_df[california_bees_df['date'].dt.month == 4]"
   ]
  },
  {
   "cell_type": "code",
   "execution_count": 62,
   "id": "c97aae77",
   "metadata": {
    "ExecuteTime": {
     "end_time": "2022-03-02T02:14:32.500885Z",
     "start_time": "2022-03-02T02:14:32.482075Z"
    }
   },
   "outputs": [],
   "source": [
    "RELATIONSHIPS = [\n",
    "    ('date', 'Starting Colonies'),\n",
    "    ('date', 'Lost Colonies'),\n",
    "    ('date', 'Percent Loss'),\n",
    "    ('date', 'Renovated Colonies'),\n",
    "    ('date', 'Maximum Colonies')\n",
    "]\n",
    "\n",
    "SELECT = (0, 4)\n",
    "\n",
    "relational_dfs = {}\n",
    "for i in range(SELECT[0], SELECT[1]+1):\n",
    "    colA, colB = RELATIONSHIPS[i]\n",
    "    new_df = bee_df[bee_df['State'] == 'California'][[colA, colB]]\n",
    "    new_df = new_df[new_df['date'].dt.month == 7]\n",
    "    new_df[colB] = pd.to_numeric(new_df[colB], errors='coerce')\n",
    "    relational_dfs[f'{colA}_vs_{colB}'] = new_df"
   ]
  },
  {
   "cell_type": "code",
   "execution_count": 63,
   "id": "1d030464",
   "metadata": {
    "ExecuteTime": {
     "end_time": "2022-03-02T02:14:33.697151Z",
     "start_time": "2022-03-02T02:14:33.683927Z"
    }
   },
   "outputs": [
    {
     "data": {
      "text/plain": [
       "{'date_vs_Starting Colonies':            date  Starting Colonies\n",
       " 97   2015-07-01             730000\n",
       " 285  2016-07-01             740000\n",
       " 473  2017-07-01             590000\n",
       " 661  2018-07-01             590000\n",
       " 849  2019-07-01             650000\n",
       " 1037 2020-07-01             640000,\n",
       " 'date_vs_Lost Colonies':            date  Lost Colonies\n",
       " 97   2015-07-01          76000\n",
       " 285  2016-07-01          82000\n",
       " 473  2017-07-01          67000\n",
       " 661  2018-07-01          73000\n",
       " 849  2019-07-01          93000\n",
       " 1037 2020-07-01          69000,\n",
       " 'date_vs_Percent Loss':            date  Percent Loss\n",
       " 97   2015-07-01            10\n",
       " 285  2016-07-01            10\n",
       " 473  2017-07-01            10\n",
       " 661  2018-07-01            10\n",
       " 849  2019-07-01            13\n",
       " 1037 2020-07-01            10,\n",
       " 'date_vs_Renovated Colonies':            date  Renovated Colonies\n",
       " 97   2015-07-01               93000\n",
       " 285  2016-07-01               78000\n",
       " 473  2017-07-01               74000\n",
       " 661  2018-07-01              141000\n",
       " 849  2019-07-01              108000\n",
       " 1037 2020-07-01              108000,\n",
       " 'date_vs_Maximum Colonies':            date  Maximum Colonies\n",
       " 97   2015-07-01            800000\n",
       " 285  2016-07-01            820000\n",
       " 473  2017-07-01            670000\n",
       " 661  2018-07-01            700000\n",
       " 849  2019-07-01            700000\n",
       " 1037 2020-07-01            700000}"
      ]
     },
     "execution_count": 63,
     "metadata": {},
     "output_type": "execute_result"
    }
   ],
   "source": [
    "relational_dfs"
   ]
  },
  {
   "cell_type": "code",
   "execution_count": 65,
   "id": "4e8e8d68",
   "metadata": {
    "ExecuteTime": {
     "end_time": "2022-03-02T02:14:52.414164Z",
     "start_time": "2022-03-02T02:14:52.238174Z"
    }
   },
   "outputs": [
    {
     "data": {
      "text/plain": [
       "<AxesSubplot:xlabel='date'>"
      ]
     },
     "execution_count": 65,
     "metadata": {},
     "output_type": "execute_result"
    },
    {
     "data": {
      "image/png": "[encoded data removed]",
      "text/plain": [
       "<Figure size 720x936 with 1 Axes>"
      ]
     },
     "metadata": {
      "needs_background": "light"
     },
     "output_type": "display_data"
    }
   ],
   "source": [
    "relational_dfs['date_vs_Starting Colonies'].plot.line(x='date', \n",
    "                                y='Starting Colonies',\n",
    "                               figsize=(10, 13))"
   ]
  },
  {
   "cell_type": "code",
   "execution_count": 19,
   "id": "a841d095",
   "metadata": {
    "ExecuteTime": {
     "end_time": "2022-03-02T01:31:39.132026Z",
     "start_time": "2022-03-02T01:31:39.117240Z"
    }
   },
   "outputs": [
    {
     "data": {
      "text/plain": [
       "0          7000.0\n",
       "1         35000.0\n",
       "2         13000.0\n",
       "3       1440000.0\n",
       "4          3500.0\n",
       "          ...    \n",
       "1217       8000.0\n",
       "1218      42000.0\n",
       "1219      13500.0\n",
       "1220       5970.0\n",
       "1221    2855070.0\n",
       "Name: Starting Colonies, Length: 1222, dtype: float64"
      ]
     },
     "execution_count": 19,
     "metadata": {},
     "output_type": "execute_result"
    }
   ],
   "source": [
    "pd.to_numeric(bee_df['Starting Colonies'], errors='coerce')"
   ]
  },
  {
   "cell_type": "code",
   "execution_count": null,
   "id": "f39eb067",
   "metadata": {},
   "outputs": [],
   "source": []
  }
 ],
 "metadata": {
  "kernelspec": {
   "display_name": "Python [conda env:data_analysis]",
   "language": "python",
   "name": "conda-env-data_analysis-py"
  },
  "language_info": {
   "codemirror_mode": {
    "name": "ipython",
    "version": 3
   },
   "file_extension": ".py",
   "mimetype": "text/x-python",
   "name": "python",
   "nbconvert_exporter": "python",
   "pygments_lexer": "ipython3",
   "version": "3.10.2"
  }
 },
 "nbformat": 4,
 "nbformat_minor": 5
}
