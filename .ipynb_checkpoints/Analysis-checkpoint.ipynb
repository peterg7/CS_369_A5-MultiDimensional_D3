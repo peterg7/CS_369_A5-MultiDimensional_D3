{
 "cells": [
  {
   "cell_type": "code",
   "execution_count": 1,
   "id": "2facc869",
   "metadata": {
    "ExecuteTime": {
     "end_time": "2022-03-02T18:06:08.186787Z",
     "start_time": "2022-03-02T18:06:07.828315Z"
    }
   },
   "outputs": [],
   "source": [
    "import pandas as pd\n",
    "import numpy as np"
   ]
  },
  {
   "cell_type": "code",
   "execution_count": 2,
   "id": "26ab7ea2",
   "metadata": {
    "ExecuteTime": {
     "end_time": "2022-03-02T18:06:08.867436Z",
     "start_time": "2022-03-02T18:06:08.828274Z"
    }
   },
   "outputs": [
    {
     "data": {
      "text/html": [
       "<div>\n",
       "<style scoped>\n",
       "    .dataframe tbody tr th:only-of-type {\n",
       "        vertical-align: middle;\n",
       "    }\n",
       "\n",
       "    .dataframe tbody tr th {\n",
       "        vertical-align: top;\n",
       "    }\n",
       "\n",
       "    .dataframe thead th {\n",
       "        text-align: right;\n",
       "    }\n",
       "</style>\n",
       "<table border=\"1\" class=\"dataframe\">\n",
       "  <thead>\n",
       "    <tr style=\"text-align: right;\">\n",
       "      <th></th>\n",
       "      <th>State</th>\n",
       "      <th>Starting Colonies</th>\n",
       "      <th>Maximum Colonies</th>\n",
       "      <th>Lost Colonies</th>\n",
       "      <th>Percent Loss</th>\n",
       "      <th>Added Colonies</th>\n",
       "      <th>Renovated Colonies</th>\n",
       "      <th>Percent Renovated</th>\n",
       "      <th>Year</th>\n",
       "    </tr>\n",
       "  </thead>\n",
       "  <tbody>\n",
       "    <tr>\n",
       "      <th>0</th>\n",
       "      <td>Alabama</td>\n",
       "      <td>7000</td>\n",
       "      <td>7000</td>\n",
       "      <td>1800</td>\n",
       "      <td>26</td>\n",
       "      <td>2800</td>\n",
       "      <td>250</td>\n",
       "      <td>4</td>\n",
       "      <td>2015-Q1</td>\n",
       "    </tr>\n",
       "    <tr>\n",
       "      <th>1</th>\n",
       "      <td>Arizona</td>\n",
       "      <td>35000</td>\n",
       "      <td>35000</td>\n",
       "      <td>4600</td>\n",
       "      <td>13</td>\n",
       "      <td>3400</td>\n",
       "      <td>2100</td>\n",
       "      <td>6</td>\n",
       "      <td>2015-Q1</td>\n",
       "    </tr>\n",
       "    <tr>\n",
       "      <th>2</th>\n",
       "      <td>Arkansas</td>\n",
       "      <td>13000</td>\n",
       "      <td>14000</td>\n",
       "      <td>1500</td>\n",
       "      <td>11</td>\n",
       "      <td>1200</td>\n",
       "      <td>90</td>\n",
       "      <td>1</td>\n",
       "      <td>2015-Q1</td>\n",
       "    </tr>\n",
       "    <tr>\n",
       "      <th>3</th>\n",
       "      <td>California</td>\n",
       "      <td>1440000</td>\n",
       "      <td>1690000</td>\n",
       "      <td>255000</td>\n",
       "      <td>15</td>\n",
       "      <td>250000</td>\n",
       "      <td>124000</td>\n",
       "      <td>7</td>\n",
       "      <td>2015-Q1</td>\n",
       "    </tr>\n",
       "    <tr>\n",
       "      <th>4</th>\n",
       "      <td>Colorado</td>\n",
       "      <td>3500</td>\n",
       "      <td>12500</td>\n",
       "      <td>1500</td>\n",
       "      <td>12</td>\n",
       "      <td>200</td>\n",
       "      <td>140</td>\n",
       "      <td>1</td>\n",
       "      <td>2015-Q1</td>\n",
       "    </tr>\n",
       "  </tbody>\n",
       "</table>\n",
       "</div>"
      ],
      "text/plain": [
       "        State Starting Colonies Maximum Colonies Lost Colonies Percent Loss  \\\n",
       "0     Alabama              7000             7000          1800           26   \n",
       "1     Arizona             35000            35000          4600           13   \n",
       "2    Arkansas             13000            14000          1500           11   \n",
       "3  California           1440000          1690000        255000           15   \n",
       "4    Colorado              3500            12500          1500           12   \n",
       "\n",
       "  Added Colonies Renovated Colonies Percent Renovated     Year  \n",
       "0           2800                250                 4  2015-Q1  \n",
       "1           3400               2100                 6  2015-Q1  \n",
       "2           1200                 90                 1  2015-Q1  \n",
       "3         250000             124000                 7  2015-Q1  \n",
       "4            200                140                 1  2015-Q1  "
      ]
     },
     "execution_count": 2,
     "metadata": {},
     "output_type": "execute_result"
    }
   ],
   "source": [
    "bee_df = pd.read_csv('data/NASS_Bee-Colony_2015-2021.csv')\n",
    "bee_df.head()"
   ]
  },
  {
   "cell_type": "code",
   "execution_count": 3,
   "id": "ded02189",
   "metadata": {
    "ExecuteTime": {
     "end_time": "2022-03-02T18:06:09.718613Z",
     "start_time": "2022-03-02T18:06:09.711229Z"
    }
   },
   "outputs": [
    {
     "data": {
      "text/plain": [
       "State                 object\n",
       "Starting Colonies     object\n",
       "Maximum Colonies      object\n",
       "Lost Colonies         object\n",
       "Percent Loss          object\n",
       "Added Colonies        object\n",
       "Renovated Colonies    object\n",
       "Percent Renovated     object\n",
       "Year                  object\n",
       "dtype: object"
      ]
     },
     "execution_count": 3,
     "metadata": {},
     "output_type": "execute_result"
    }
   ],
   "source": [
    "bee_df.dtypes"
   ]
  },
  {
   "cell_type": "code",
   "execution_count": 4,
   "id": "8a9483d5",
   "metadata": {
    "ExecuteTime": {
     "end_time": "2022-03-02T18:06:11.275835Z",
     "start_time": "2022-03-02T18:06:11.243048Z"
    }
   },
   "outputs": [
    {
     "data": {
      "text/html": [
       "<div>\n",
       "<style scoped>\n",
       "    .dataframe tbody tr th:only-of-type {\n",
       "        vertical-align: middle;\n",
       "    }\n",
       "\n",
       "    .dataframe tbody tr th {\n",
       "        vertical-align: top;\n",
       "    }\n",
       "\n",
       "    .dataframe thead th {\n",
       "        text-align: right;\n",
       "    }\n",
       "</style>\n",
       "<table border=\"1\" class=\"dataframe\">\n",
       "  <thead>\n",
       "    <tr style=\"text-align: right;\">\n",
       "      <th></th>\n",
       "      <th>State</th>\n",
       "      <th>Starting Colonies</th>\n",
       "      <th>Maximum Colonies</th>\n",
       "      <th>Lost Colonies</th>\n",
       "      <th>Percent Loss</th>\n",
       "      <th>Added Colonies</th>\n",
       "      <th>Renovated Colonies</th>\n",
       "      <th>Percent Renovated</th>\n",
       "      <th>Year</th>\n",
       "    </tr>\n",
       "  </thead>\n",
       "  <tbody>\n",
       "    <tr>\n",
       "      <th>count</th>\n",
       "      <td>1222</td>\n",
       "      <td>1222</td>\n",
       "      <td>1222</td>\n",
       "      <td>1222</td>\n",
       "      <td>1222</td>\n",
       "      <td>1222</td>\n",
       "      <td>1222</td>\n",
       "      <td>1222</td>\n",
       "      <td>1222</td>\n",
       "    </tr>\n",
       "    <tr>\n",
       "      <th>unique</th>\n",
       "      <td>47</td>\n",
       "      <td>290</td>\n",
       "      <td>281</td>\n",
       "      <td>262</td>\n",
       "      <td>46</td>\n",
       "      <td>260</td>\n",
       "      <td>255</td>\n",
       "      <td>54</td>\n",
       "      <td>26</td>\n",
       "    </tr>\n",
       "    <tr>\n",
       "      <th>top</th>\n",
       "      <td>Alabama</td>\n",
       "      <td>(NA)</td>\n",
       "      <td>(NA)</td>\n",
       "      <td>(NA)</td>\n",
       "      <td>8</td>\n",
       "      <td>(NA)</td>\n",
       "      <td>0</td>\n",
       "      <td>1</td>\n",
       "      <td>2015-Q1</td>\n",
       "    </tr>\n",
       "    <tr>\n",
       "      <th>freq</th>\n",
       "      <td>26</td>\n",
       "      <td>47</td>\n",
       "      <td>47</td>\n",
       "      <td>47</td>\n",
       "      <td>93</td>\n",
       "      <td>47</td>\n",
       "      <td>87</td>\n",
       "      <td>144</td>\n",
       "      <td>47</td>\n",
       "    </tr>\n",
       "  </tbody>\n",
       "</table>\n",
       "</div>"
      ],
      "text/plain": [
       "          State Starting Colonies Maximum Colonies Lost Colonies Percent Loss  \\\n",
       "count      1222              1222             1222          1222         1222   \n",
       "unique       47               290              281           262           46   \n",
       "top     Alabama              (NA)             (NA)          (NA)            8   \n",
       "freq         26                47               47            47           93   \n",
       "\n",
       "       Added Colonies Renovated Colonies Percent Renovated     Year  \n",
       "count            1222               1222              1222     1222  \n",
       "unique            260                255                54       26  \n",
       "top              (NA)                  0                 1  2015-Q1  \n",
       "freq               47                 87               144       47  "
      ]
     },
     "execution_count": 4,
     "metadata": {},
     "output_type": "execute_result"
    }
   ],
   "source": [
    "bee_df.describe()"
   ]
  },
  {
   "cell_type": "code",
   "execution_count": 5,
   "id": "5d3b0c6a",
   "metadata": {
    "ExecuteTime": {
     "end_time": "2022-03-02T18:06:18.936503Z",
     "start_time": "2022-03-02T18:06:18.917465Z"
    }
   },
   "outputs": [
    {
     "name": "stdout",
     "output_type": "stream",
     "text": [
      "Total 1222\n",
      "State                 0\n",
      "Starting Colonies     0\n",
      "Maximum Colonies      0\n",
      "Lost Colonies         0\n",
      "Percent Loss          0\n",
      "Added Colonies        0\n",
      "Renovated Colonies    0\n",
      "Percent Renovated     0\n",
      "Year                  0\n",
      "dtype: int64\n"
     ]
    }
   ],
   "source": [
    "print('Total', len(bee_df))\n",
    "\n",
    "na_counts = bee_df.isna().sum()\n",
    "print(na_counts.sort_values())"
   ]
  },
  {
   "cell_type": "code",
   "execution_count": 6,
   "id": "e57faa81",
   "metadata": {
    "ExecuteTime": {
     "end_time": "2022-03-02T18:06:19.824991Z",
     "start_time": "2022-03-02T18:06:19.780185Z"
    }
   },
   "outputs": [],
   "source": [
    "bee_df['date'] = pd.PeriodIndex(bee_df['Year'], freq='Q').to_timestamp()"
   ]
  },
  {
   "cell_type": "code",
   "execution_count": 7,
   "id": "b77ca99c",
   "metadata": {
    "ExecuteTime": {
     "end_time": "2022-03-02T18:06:21.750908Z",
     "start_time": "2022-03-02T18:06:21.724298Z"
    }
   },
   "outputs": [
    {
     "data": {
      "text/html": [
       "<div>\n",
       "<style scoped>\n",
       "    .dataframe tbody tr th:only-of-type {\n",
       "        vertical-align: middle;\n",
       "    }\n",
       "\n",
       "    .dataframe tbody tr th {\n",
       "        vertical-align: top;\n",
       "    }\n",
       "\n",
       "    .dataframe thead th {\n",
       "        text-align: right;\n",
       "    }\n",
       "</style>\n",
       "<table border=\"1\" class=\"dataframe\">\n",
       "  <thead>\n",
       "    <tr style=\"text-align: right;\">\n",
       "      <th></th>\n",
       "      <th>State</th>\n",
       "      <th>Starting Colonies</th>\n",
       "      <th>Maximum Colonies</th>\n",
       "      <th>Lost Colonies</th>\n",
       "      <th>Percent Loss</th>\n",
       "      <th>Added Colonies</th>\n",
       "      <th>Renovated Colonies</th>\n",
       "      <th>Percent Renovated</th>\n",
       "      <th>Year</th>\n",
       "      <th>date</th>\n",
       "    </tr>\n",
       "  </thead>\n",
       "  <tbody>\n",
       "    <tr>\n",
       "      <th>0</th>\n",
       "      <td>Alabama</td>\n",
       "      <td>7000</td>\n",
       "      <td>7000</td>\n",
       "      <td>1800</td>\n",
       "      <td>26</td>\n",
       "      <td>2800</td>\n",
       "      <td>250</td>\n",
       "      <td>4</td>\n",
       "      <td>2015-Q1</td>\n",
       "      <td>2015-01-01</td>\n",
       "    </tr>\n",
       "    <tr>\n",
       "      <th>1</th>\n",
       "      <td>Arizona</td>\n",
       "      <td>35000</td>\n",
       "      <td>35000</td>\n",
       "      <td>4600</td>\n",
       "      <td>13</td>\n",
       "      <td>3400</td>\n",
       "      <td>2100</td>\n",
       "      <td>6</td>\n",
       "      <td>2015-Q1</td>\n",
       "      <td>2015-01-01</td>\n",
       "    </tr>\n",
       "    <tr>\n",
       "      <th>2</th>\n",
       "      <td>Arkansas</td>\n",
       "      <td>13000</td>\n",
       "      <td>14000</td>\n",
       "      <td>1500</td>\n",
       "      <td>11</td>\n",
       "      <td>1200</td>\n",
       "      <td>90</td>\n",
       "      <td>1</td>\n",
       "      <td>2015-Q1</td>\n",
       "      <td>2015-01-01</td>\n",
       "    </tr>\n",
       "    <tr>\n",
       "      <th>3</th>\n",
       "      <td>California</td>\n",
       "      <td>1440000</td>\n",
       "      <td>1690000</td>\n",
       "      <td>255000</td>\n",
       "      <td>15</td>\n",
       "      <td>250000</td>\n",
       "      <td>124000</td>\n",
       "      <td>7</td>\n",
       "      <td>2015-Q1</td>\n",
       "      <td>2015-01-01</td>\n",
       "    </tr>\n",
       "    <tr>\n",
       "      <th>4</th>\n",
       "      <td>Colorado</td>\n",
       "      <td>3500</td>\n",
       "      <td>12500</td>\n",
       "      <td>1500</td>\n",
       "      <td>12</td>\n",
       "      <td>200</td>\n",
       "      <td>140</td>\n",
       "      <td>1</td>\n",
       "      <td>2015-Q1</td>\n",
       "      <td>2015-01-01</td>\n",
       "    </tr>\n",
       "    <tr>\n",
       "      <th>...</th>\n",
       "      <td>...</td>\n",
       "      <td>...</td>\n",
       "      <td>...</td>\n",
       "      <td>...</td>\n",
       "      <td>...</td>\n",
       "      <td>...</td>\n",
       "      <td>...</td>\n",
       "      <td>...</td>\n",
       "      <td>...</td>\n",
       "      <td>...</td>\n",
       "    </tr>\n",
       "    <tr>\n",
       "      <th>1217</th>\n",
       "      <td>West Virginia</td>\n",
       "      <td>8000</td>\n",
       "      <td>9000</td>\n",
       "      <td>170</td>\n",
       "      <td>2</td>\n",
       "      <td>1900</td>\n",
       "      <td>390</td>\n",
       "      <td>4</td>\n",
       "      <td>2021-Q2</td>\n",
       "      <td>2021-04-01</td>\n",
       "    </tr>\n",
       "    <tr>\n",
       "      <th>1218</th>\n",
       "      <td>Wisconsin</td>\n",
       "      <td>42000</td>\n",
       "      <td>57000</td>\n",
       "      <td>2200</td>\n",
       "      <td>4</td>\n",
       "      <td>9000</td>\n",
       "      <td>7500</td>\n",
       "      <td>13</td>\n",
       "      <td>2021-Q2</td>\n",
       "      <td>2021-04-01</td>\n",
       "    </tr>\n",
       "    <tr>\n",
       "      <th>1219</th>\n",
       "      <td>Wyoming</td>\n",
       "      <td>13500</td>\n",
       "      <td>30000</td>\n",
       "      <td>3400</td>\n",
       "      <td>11</td>\n",
       "      <td>7500</td>\n",
       "      <td>4900</td>\n",
       "      <td>16</td>\n",
       "      <td>2021-Q2</td>\n",
       "      <td>2021-04-01</td>\n",
       "    </tr>\n",
       "    <tr>\n",
       "      <th>1220</th>\n",
       "      <td>Other</td>\n",
       "      <td>5970</td>\n",
       "      <td>8410</td>\n",
       "      <td>140</td>\n",
       "      <td>2</td>\n",
       "      <td>2890</td>\n",
       "      <td>3100</td>\n",
       "      <td>37</td>\n",
       "      <td>2021-Q2</td>\n",
       "      <td>2021-04-01</td>\n",
       "    </tr>\n",
       "    <tr>\n",
       "      <th>1221</th>\n",
       "      <td>United States</td>\n",
       "      <td>2855070</td>\n",
       "      <td>(X)</td>\n",
       "      <td>255860</td>\n",
       "      <td>9</td>\n",
       "      <td>677690</td>\n",
       "      <td>480380</td>\n",
       "      <td>17</td>\n",
       "      <td>2021-Q2</td>\n",
       "      <td>2021-04-01</td>\n",
       "    </tr>\n",
       "  </tbody>\n",
       "</table>\n",
       "<p>1222 rows × 10 columns</p>\n",
       "</div>"
      ],
      "text/plain": [
       "              State Starting Colonies Maximum Colonies Lost Colonies  \\\n",
       "0           Alabama              7000             7000          1800   \n",
       "1           Arizona             35000            35000          4600   \n",
       "2          Arkansas             13000            14000          1500   \n",
       "3        California           1440000          1690000        255000   \n",
       "4          Colorado              3500            12500          1500   \n",
       "...             ...               ...              ...           ...   \n",
       "1217  West Virginia              8000             9000           170   \n",
       "1218      Wisconsin             42000            57000          2200   \n",
       "1219        Wyoming             13500            30000          3400   \n",
       "1220          Other              5970             8410           140   \n",
       "1221  United States           2855070              (X)        255860   \n",
       "\n",
       "     Percent Loss Added Colonies Renovated Colonies Percent Renovated  \\\n",
       "0              26           2800                250                 4   \n",
       "1              13           3400               2100                 6   \n",
       "2              11           1200                 90                 1   \n",
       "3              15         250000             124000                 7   \n",
       "4              12            200                140                 1   \n",
       "...           ...            ...                ...               ...   \n",
       "1217            2           1900                390                 4   \n",
       "1218            4           9000               7500                13   \n",
       "1219           11           7500               4900                16   \n",
       "1220            2           2890               3100                37   \n",
       "1221            9         677690             480380                17   \n",
       "\n",
       "         Year       date  \n",
       "0     2015-Q1 2015-01-01  \n",
       "1     2015-Q1 2015-01-01  \n",
       "2     2015-Q1 2015-01-01  \n",
       "3     2015-Q1 2015-01-01  \n",
       "4     2015-Q1 2015-01-01  \n",
       "...       ...        ...  \n",
       "1217  2021-Q2 2021-04-01  \n",
       "1218  2021-Q2 2021-04-01  \n",
       "1219  2021-Q2 2021-04-01  \n",
       "1220  2021-Q2 2021-04-01  \n",
       "1221  2021-Q2 2021-04-01  \n",
       "\n",
       "[1222 rows x 10 columns]"
      ]
     },
     "execution_count": 7,
     "metadata": {},
     "output_type": "execute_result"
    }
   ],
   "source": [
    "bee_df"
   ]
  },
  {
   "cell_type": "code",
   "execution_count": null,
   "id": "c1c21c14",
   "metadata": {
    "ExecuteTime": {
     "end_time": "2022-03-02T01:27:32.676864Z",
     "start_time": "2022-03-02T01:27:32.669863Z"
    }
   },
   "outputs": [],
   "source": [
    "bee_df['Starting Colonies'].describe()"
   ]
  },
  {
   "cell_type": "code",
   "execution_count": null,
   "id": "7e9d7c20",
   "metadata": {
    "ExecuteTime": {
     "end_time": "2022-03-02T01:27:33.403471Z",
     "start_time": "2022-03-02T01:27:33.395063Z"
    }
   },
   "outputs": [],
   "source": [
    "bee_df['Added Colonies'].describe()"
   ]
  },
  {
   "cell_type": "code",
   "execution_count": null,
   "id": "707e5eb7",
   "metadata": {
    "ExecuteTime": {
     "end_time": "2022-03-02T01:27:36.248987Z",
     "start_time": "2022-03-02T01:27:36.242489Z"
    }
   },
   "outputs": [],
   "source": [
    "bee_df['Renovated Colonies'].describe()"
   ]
  },
  {
   "cell_type": "code",
   "execution_count": null,
   "id": "57bd974e",
   "metadata": {
    "ExecuteTime": {
     "end_time": "2022-03-02T01:27:36.906870Z",
     "start_time": "2022-03-02T01:27:36.898936Z"
    }
   },
   "outputs": [],
   "source": [
    "bee_df['Maximum Colonies'].describe()"
   ]
  },
  {
   "cell_type": "code",
   "execution_count": null,
   "id": "73a325c3",
   "metadata": {
    "ExecuteTime": {
     "end_time": "2022-03-02T01:27:38.681504Z",
     "start_time": "2022-03-02T01:27:38.675749Z"
    }
   },
   "outputs": [],
   "source": [
    "bee_df['Year'].value_counts()"
   ]
  },
  {
   "cell_type": "code",
   "execution_count": null,
   "id": "a9b0d415",
   "metadata": {
    "ExecuteTime": {
     "end_time": "2022-03-02T02:11:58.664682Z",
     "start_time": "2022-03-02T02:11:58.657591Z"
    }
   },
   "outputs": [],
   "source": [
    "california_bees_df = bee_df[bee_df['State'] == 'California']\n",
    "spring_cali_bees_df = california_bees_df[california_bees_df['date'].dt.month == 4]"
   ]
  },
  {
   "cell_type": "code",
   "execution_count": null,
   "id": "c97aae77",
   "metadata": {
    "ExecuteTime": {
     "end_time": "2022-03-02T02:14:32.500885Z",
     "start_time": "2022-03-02T02:14:32.482075Z"
    }
   },
   "outputs": [],
   "source": [
    "RELATIONSHIPS = [\n",
    "    ('date', 'Starting Colonies'),\n",
    "    ('date', 'Lost Colonies'),\n",
    "    ('date', 'Percent Loss'),\n",
    "    ('date', 'Renovated Colonies'),\n",
    "    ('date', 'Maximum Colonies')\n",
    "]\n",
    "\n",
    "SELECT = (0, 4)\n",
    "\n",
    "relational_dfs = {}\n",
    "for i in range(SELECT[0], SELECT[1]+1):\n",
    "    colA, colB = RELATIONSHIPS[i]\n",
    "    new_df = bee_df[bee_df['State'] == 'California'][[colA, colB]]\n",
    "    new_df = new_df[new_df['date'].dt.month == 7]\n",
    "    new_df[colB] = pd.to_numeric(new_df[colB], errors='coerce')\n",
    "    relational_dfs[f'{colA}_vs_{colB}'] = new_df"
   ]
  },
  {
   "cell_type": "code",
   "execution_count": null,
   "id": "1d030464",
   "metadata": {
    "ExecuteTime": {
     "end_time": "2022-03-02T02:14:33.697151Z",
     "start_time": "2022-03-02T02:14:33.683927Z"
    }
   },
   "outputs": [],
   "source": [
    "relational_dfs"
   ]
  },
  {
   "cell_type": "code",
   "execution_count": null,
   "id": "4e8e8d68",
   "metadata": {
    "ExecuteTime": {
     "end_time": "2022-03-02T02:14:52.414164Z",
     "start_time": "2022-03-02T02:14:52.238174Z"
    }
   },
   "outputs": [],
   "source": [
    "relational_dfs['date_vs_Starting Colonies'].plot.line(x='date', \n",
    "                                y='Starting Colonies',\n",
    "                               figsize=(10, 13))"
   ]
  },
  {
   "cell_type": "code",
   "execution_count": null,
   "id": "a841d095",
   "metadata": {
    "ExecuteTime": {
     "end_time": "2022-03-02T01:31:39.132026Z",
     "start_time": "2022-03-02T01:31:39.117240Z"
    }
   },
   "outputs": [],
   "source": [
    "pd.to_numeric(bee_df['Starting Colonies'], errors='coerce')"
   ]
  },
  {
   "cell_type": "code",
   "execution_count": 8,
   "id": "f39eb067",
   "metadata": {
    "ExecuteTime": {
     "end_time": "2022-03-02T18:06:46.254622Z",
     "start_time": "2022-03-02T18:06:46.245004Z"
    }
   },
   "outputs": [
    {
     "data": {
      "text/plain": [
       "State                         object\n",
       "Starting Colonies             object\n",
       "Maximum Colonies              object\n",
       "Lost Colonies                 object\n",
       "Percent Loss                  object\n",
       "Added Colonies                object\n",
       "Renovated Colonies            object\n",
       "Percent Renovated             object\n",
       "Year                          object\n",
       "date                  datetime64[ns]\n",
       "dtype: object"
      ]
     },
     "execution_count": 8,
     "metadata": {},
     "output_type": "execute_result"
    }
   ],
   "source": [
    "bee_df.dtypes"
   ]
  },
  {
   "cell_type": "code",
   "execution_count": 9,
   "id": "35f264e3",
   "metadata": {
    "ExecuteTime": {
     "end_time": "2022-03-02T18:19:30.752593Z",
     "start_time": "2022-03-02T18:19:30.743206Z"
    }
   },
   "outputs": [],
   "source": [
    "scatter_data = bee_df[['Starting Colonies', 'Maximum Colonies', 'Lost Colonies', 'Renovated Colonies']]"
   ]
  },
  {
   "cell_type": "code",
   "execution_count": 13,
   "id": "9a84e756",
   "metadata": {
    "ExecuteTime": {
     "end_time": "2022-03-02T18:21:16.599720Z",
     "start_time": "2022-03-02T18:21:16.583680Z"
    }
   },
   "outputs": [
    {
     "data": {
      "text/html": [
       "<div>\n",
       "<style scoped>\n",
       "    .dataframe tbody tr th:only-of-type {\n",
       "        vertical-align: middle;\n",
       "    }\n",
       "\n",
       "    .dataframe tbody tr th {\n",
       "        vertical-align: top;\n",
       "    }\n",
       "\n",
       "    .dataframe thead th {\n",
       "        text-align: right;\n",
       "    }\n",
       "</style>\n",
       "<table border=\"1\" class=\"dataframe\">\n",
       "  <thead>\n",
       "    <tr style=\"text-align: right;\">\n",
       "      <th></th>\n",
       "      <th>Starting Colonies</th>\n",
       "      <th>Maximum Colonies</th>\n",
       "      <th>Lost Colonies</th>\n",
       "      <th>Renovated Colonies</th>\n",
       "    </tr>\n",
       "  </thead>\n",
       "  <tbody>\n",
       "    <tr>\n",
       "      <th>0</th>\n",
       "      <td>7000</td>\n",
       "      <td>7000</td>\n",
       "      <td>1800</td>\n",
       "      <td>250</td>\n",
       "    </tr>\n",
       "    <tr>\n",
       "      <th>1</th>\n",
       "      <td>35000</td>\n",
       "      <td>35000</td>\n",
       "      <td>4600</td>\n",
       "      <td>2100</td>\n",
       "    </tr>\n",
       "    <tr>\n",
       "      <th>2</th>\n",
       "      <td>13000</td>\n",
       "      <td>14000</td>\n",
       "      <td>1500</td>\n",
       "      <td>90</td>\n",
       "    </tr>\n",
       "    <tr>\n",
       "      <th>3</th>\n",
       "      <td>1440000</td>\n",
       "      <td>1690000</td>\n",
       "      <td>255000</td>\n",
       "      <td>124000</td>\n",
       "    </tr>\n",
       "    <tr>\n",
       "      <th>4</th>\n",
       "      <td>3500</td>\n",
       "      <td>12500</td>\n",
       "      <td>1500</td>\n",
       "      <td>140</td>\n",
       "    </tr>\n",
       "  </tbody>\n",
       "</table>\n",
       "</div>"
      ],
      "text/plain": [
       "  Starting Colonies Maximum Colonies Lost Colonies Renovated Colonies\n",
       "0              7000             7000          1800                250\n",
       "1             35000            35000          4600               2100\n",
       "2             13000            14000          1500                 90\n",
       "3           1440000          1690000        255000             124000\n",
       "4              3500            12500          1500                140"
      ]
     },
     "execution_count": 13,
     "metadata": {},
     "output_type": "execute_result"
    }
   ],
   "source": [
    "scatter_data.head()"
   ]
  },
  {
   "cell_type": "code",
   "execution_count": null,
   "id": "2d35fdcf",
   "metadata": {},
   "outputs": [],
   "source": [
    "EMPTY_MARKER = '(X)'\n",
    "NULL_MARKER = '(NA)'"
   ]
  }
 ],
 "metadata": {
  "kernelspec": {
   "display_name": "Python3 (data-analysis)",
   "language": "python",
   "name": "data-analysis"
  },
  "language_info": {
   "codemirror_mode": {
    "name": "ipython",
    "version": 3
   },
   "file_extension": ".py",
   "mimetype": "text/x-python",
   "name": "python",
   "nbconvert_exporter": "python",
   "pygments_lexer": "ipython3",
   "version": "3.10.2"
  },
  "toc": {
   "base_numbering": 1,
   "nav_menu": {},
   "number_sections": true,
   "sideBar": true,
   "skip_h1_title": false,
   "title_cell": "Table of Contents",
   "title_sidebar": "Contents",
   "toc_cell": false,
   "toc_position": {},
   "toc_section_display": true,
   "toc_window_display": false
  }
 },
 "nbformat": 4,
 "nbformat_minor": 5
}
